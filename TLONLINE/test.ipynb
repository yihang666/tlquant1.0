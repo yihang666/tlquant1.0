{
 "cells": [
  {
   "cell_type": "code",
   "execution_count": null,
   "metadata": {
    "collapsed": true
   },
   "outputs": [],
   "source": [
    "from docx import Document\n",
    "from docx.shared import Inches\n",
    "from numpy import unicode\n",
    "import tushare as ts\n",
    "from jqdatasdk import *\n",
    "auth(\"15336553896\",\"553896\")\n",
    "import pandas as pd\n",
    "import time\n",
    "import matplotlib.pyplot as plt\n",
    "import datetime\n",
    "import TLAPI\n",
    "from docx.enum.table import WD_TABLE_ALIGNMENT\n",
    "from docx.shared import Cm\n",
    "\n",
    "\n",
    "#日期与实践模块\n",
    "\n",
    "nowTime = datetime.datetime.now()\n",
    "beforeTime = nowTime - datetime.timedelta(days=29)\n",
    "beforeHalfYearTime = nowTime -datetime.timedelta(days=180)\n",
    "yesterdayTime =  nowTime - datetime.timedelta(days=1)\n",
    "#给tushare喂的数据\n",
    "nowDate = nowTime.date().strftime(\"%Y%m%d\")\n",
    "beforeDate = beforeTime.date().strftime(\"%Y%m%d\")\n",
    "beforeHalfYearDate = beforeHalfYearTime.date().strftime(\"%Y%m%d\")\n",
    "yesterdayDate = yesterdayTime.date().strftime(\"%Y%m%d\")\n",
    "#给聚宽喂的数据\n",
    "nowDateJQ = nowTime.date().strftime(\"%Y-%m-%d\")\n",
    "beforeDateJQ = beforeTime.date().strftime(\"%Y-%m-%d\")\n",
    "beforeHalfYearDateJQ = beforeHalfYearTime.date().strftime(\"%Y-%m-%d\")\n",
    "yesterdayDateJQ = yesterdayTime.date().strftime(\"%Y-%m-%d\")\n",
    "\n",
    "token = '624f1a291a6d3bec690c866a2ef0c4cc3876e11743ae207221bfed19'\n",
    "ts.set_token(token)\n",
    "\n",
    "\n",
    "pro = ts.pro_api()\n"
   ]
  }
 ],
 "metadata": {
  "kernelspec": {
   "display_name": "Python 3",
   "language": "python",
   "name": "python3"
  },
  "language_info": {
   "codemirror_mode": {
    "name": "ipython",
    "version": 2
   },
   "file_extension": ".py",
   "mimetype": "text/x-python",
   "name": "python",
   "nbconvert_exporter": "python",
   "pygments_lexer": "ipython2",
   "version": "2.7.6"
  }
 },
 "nbformat": 4,
 "nbformat_minor": 0
}